{
 "cells": [
  {
   "cell_type": "code",
   "execution_count": 1,
   "id": "afc59add",
   "metadata": {},
   "outputs": [],
   "source": [
    "%load_ext autoreload\n",
    "%autoreload 2"
   ]
  },
  {
   "cell_type": "code",
   "execution_count": 8,
   "id": "21c70147",
   "metadata": {},
   "outputs": [
    {
     "data": {
      "text/plain": [
       "tensor([[ 0.7940, -1.6907],\n",
       "        [ 1.2209, -0.0700],\n",
       "        [ 1.5667, -1.1344],\n",
       "        [ 0.3522, -1.4215],\n",
       "        [ 0.4535,  0.2383],\n",
       "        [ 1.7788, -1.5557],\n",
       "        [-1.7580, -0.9457],\n",
       "        [-0.2221, -1.8066],\n",
       "        [-1.4959,  1.2441],\n",
       "        [-1.1529, -0.1126]])"
      ]
     },
     "execution_count": 8,
     "metadata": {},
     "output_type": "execute_result"
    }
   ],
   "source": [
    "import torch\n",
    "\n",
    "dims = [10, 2]\n",
    "x = torch.empty(dims, dtype=torch.float32).uniform_(-2, 2)\n",
    "x"
   ]
  },
  {
   "cell_type": "code",
   "execution_count": null,
   "id": "99198da8",
   "metadata": {},
   "outputs": [],
   "source": [
    "# import matplotlib.pyplot as plt\n",
    "# import seaborn as sns\n",
    "\n",
    "# plt.figure()\n",
    "# sns.scatterplot(x=mu.detach().cpu().flatten(), y=logvar.detach().cpu().flatten(), \n",
    "# hue=(np.ones(mu.shape) * np.arange(mu.shape[-1])[None, :]).flatten(), \n",
    "# # hue=z.detach().cpu().flatten(),\n",
    "# palette='Spectral', alpha=0.5)\n",
    "# plt.xlabel('mu')\n",
    "# plt.ylabel('logvar')\n",
    "# plt.savefig('test.png')\n"
   ]
  },
  {
   "cell_type": "code",
   "execution_count": 15,
   "id": "f3aa4841",
   "metadata": {},
   "outputs": [],
   "source": [
    "# # Copy data into bandcon\n",
    "\n",
    "# import pandas as pd\n",
    "\n",
    "# # fn = '/home/hslab/Olive/Kode/EvoScaper/data/raw/summarise_simulation/2024_11_27_145142/tabulated_mutation_info.csv'\n",
    "# fn = '/home/hslab/Olive/Kode/EvoScaper/notebooks/data/simulate_circuits/2025_02_11__13_56_51/tabulated_mutation_info.json'\n",
    "\n",
    "# df = pd.read_csv(fn) if fn.endswith('.csv') else pd.read_json(fn)\n",
    "# df = df[df['sensitivity'].notna() & df['precision'].notna() & (df['sample_name'] == 'RNA_2')]\n",
    "# ds_signature = fn.split(os.sep)[-2][:10]\n",
    "# df.to_csv(f'../data/raw/rna_circuits_{ds_signature}.csv')\n",
    "\n",
    "# cols_e = ['energies_0-0', 'energies_0-1', 'energies_0-2',\n",
    "#           'energies_1-1', 'energies_1-2', 'energies_2-2']\n",
    "# cols_a = ['sensitivity', 'precision', 'overshoot', 'response_time', 'initial_steady_states', 'steady_states']\n",
    "\n",
    "# df['name'] = df['circuit_name'].apply(lambda x: int(x.split('_')[-1])) if df['circuit_name'].dtype == str else df['circuit_name']\n",
    "# df['mutation_version'] = df['mutation_name'].apply(\n",
    "#     lambda x: int(x.split('-')[-1]) if x != 'ref_circuit' else 0)\n",
    "# df = df.drop_duplicates(cols_e)\n",
    "\n",
    "# df[['name', 'mutation_version', 'mutation_num'] +\n",
    "#    cols_e + cols_a].to_json(f'../data/processed/rna_circuits_{ds_signature}_proc.json', index=False)\n"
   ]
  },
  {
   "cell_type": "code",
   "execution_count": null,
   "id": "f61379e1",
   "metadata": {},
   "outputs": [
    {
     "data": {
      "text/plain": [
       "('GAAATCTTATTACGCTCTTA', 'GGCTCTATCTGGGAGTCGTA', 'TCAGCGTCTCCGGCGGTTGT')"
      ]
     },
     "execution_count": 42,
     "metadata": {},
     "output_type": "execute_result"
    }
   ],
   "source": [
    "# import jax.random as jr\n",
    "# import numpy as np\n",
    "# import pandas as pd\n",
    "\n",
    "\n",
    "# SEQ_POOL = {\n",
    "#     'A': 0.2451,\n",
    "#     'C': 0.2458,\n",
    "#     'G': 0.2622,\n",
    "#     'T': 0.2469\n",
    "# }\n",
    "\n",
    "\n",
    "# count=10\n",
    "# slength=20\n",
    "# num_components=3\n",
    "# seed=0\n",
    "# name='rc'\n",
    "# species_names=None\n",
    "# out_type='json'\n",
    "\n",
    "\n",
    "# rng = jr.PRNGKey(seed)\n",
    "# bases = list(SEQ_POOL.keys())\n",
    "# probs = np.array(list(SEQ_POOL.values()))\n",
    "# seqs = jr.choice(rng, np.arange(\n",
    "# len(bases)), p=probs, shape=(count, num_components, slength))\n",
    "# seqs = np.vectorize(lambda x: bases[x])(np.array(seqs))\n",
    "# sequences = list(set([tuple([''.join(si) for si in s]) for s in seqs]))\n",
    "\n",
    "# species_names = species_names if species_names is not None else [\n",
    "# f'{name}_{i}' for i in range(num_components)]\n",
    "# # df = pd.DataFrame(sequences, columns=species_names)\n",
    "\n",
    "# sequences[0]\n"
   ]
  },
  {
   "cell_type": "code",
   "execution_count": null,
   "id": "ba32a1bb",
   "metadata": {},
   "outputs": [],
   "source": []
  }
 ],
 "metadata": {
  "kernelspec": {
   "display_name": "bandcon",
   "language": "python",
   "name": "python3"
  },
  "language_info": {
   "codemirror_mode": {
    "name": "ipython",
    "version": 3
   },
   "file_extension": ".py",
   "mimetype": "text/x-python",
   "name": "python",
   "nbconvert_exporter": "python",
   "pygments_lexer": "ipython3",
   "version": "3.11.7"
  }
 },
 "nbformat": 4,
 "nbformat_minor": 5
}
