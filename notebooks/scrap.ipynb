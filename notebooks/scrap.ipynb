{
 "cells": [
  {
   "cell_type": "code",
   "execution_count": 1,
   "id": "7efb24a7",
   "metadata": {},
   "outputs": [],
   "source": [
    "%load_ext autoreload\n",
    "%autoreload 2"
   ]
  },
  {
   "cell_type": "code",
   "execution_count": 10,
   "id": "affaffda",
   "metadata": {},
   "outputs": [],
   "source": [
    "import pandas as pd\n",
    "\n",
    "fn = '/home/hslab/Olive/Kode/EvoScaper/data/raw/summarise_simulation/2024_11_27_145142/tabulated_mutation_info.csv'\n",
    "\n",
    "df = pd.read_csv(fn)"
   ]
  },
  {
   "cell_type": "code",
   "execution_count": 11,
   "id": "32239ecc",
   "metadata": {},
   "outputs": [],
   "source": [
    "df = df[df['sensitivity'].notna() & df['precision'].notna() & (df['sample_name'] == 'RNA_2')]"
   ]
  },
  {
   "cell_type": "code",
   "execution_count": 12,
   "id": "ae60c8bb",
   "metadata": {},
   "outputs": [],
   "source": [
    "df.to_csv('../data/rna_circuits.csv')"
   ]
  },
  {
   "cell_type": "code",
   "execution_count": 30,
   "id": "5208aa8a",
   "metadata": {},
   "outputs": [],
   "source": [
    "cols_e = ['energies_0-0', 'energies_0-1', 'energies_0-2',\n",
    "          'energies_1-1', 'energies_1-2', 'energies_2-2']\n",
    "cols_a = ['sensitivity', 'precision', 'overshoot']\n",
    "\n",
    "df['name'] = df['circuit_name'].apply(lambda x: int(x.split('_')[-1]))\n",
    "df['mutation_version'] = df['mutation_name'].apply(\n",
    "    lambda x: int(x.split('-')[-1]) if x != 'ref_circuit' else 0)\n",
    "df = df.drop_duplicates(cols_e)\n",
    "\n",
    "df[['name', 'mutation_version', 'mutation_num'] +\n",
    "   cols_e + cols_a].to_json('../data/processed/rna_circuits_proc.json', index=False)"
   ]
  },
  {
   "cell_type": "code",
   "execution_count": null,
   "id": "cecfbcc5",
   "metadata": {},
   "outputs": [],
   "source": []
  }
 ],
 "metadata": {
  "kernelspec": {
   "display_name": "bandcon",
   "language": "python",
   "name": "python3"
  },
  "language_info": {
   "codemirror_mode": {
    "name": "ipython",
    "version": 3
   },
   "file_extension": ".py",
   "mimetype": "text/x-python",
   "name": "python",
   "nbconvert_exporter": "python",
   "pygments_lexer": "ipython3",
   "version": "3.11.7"
  }
 },
 "nbformat": 4,
 "nbformat_minor": 5
}
