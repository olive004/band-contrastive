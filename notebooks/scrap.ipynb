{
 "cells": [
  {
   "cell_type": "code",
   "execution_count": 1,
   "id": "afc59add",
   "metadata": {},
   "outputs": [],
   "source": [
    "%load_ext autoreload\n",
    "%autoreload 2"
   ]
  },
  {
   "cell_type": "code",
   "execution_count": null,
   "id": "f3aa4841",
   "metadata": {},
   "outputs": [],
   "source": [
    "# # Copy data into bandcon\n",
    "\n",
    "# import pandas as pd\n",
    "\n",
    "# fn = '/home/hslab/Olive/Kode/EvoScaper/data/raw/summarise_simulation/2024_11_27_145142/tabulated_mutation_info.csv'\n",
    "\n",
    "# df = pd.read_csv(fn)\n",
    "# df = df[df['sensitivity'].notna() & df['precision'].notna() & (df['sample_name'] == 'RNA_2')]\n",
    "# df.to_csv('../data/raw/rna_circuits.csv')\n",
    "\n",
    "# cols_e = ['energies_0-0', 'energies_0-1', 'energies_0-2',\n",
    "#           'energies_1-1', 'energies_1-2', 'energies_2-2']\n",
    "# cols_a = ['sensitivity', 'precision', 'overshoot', 'response_time', 'initial_steady_states', 'steady_states']\n",
    "\n",
    "# df['name'] = df['circuit_name'].apply(lambda x: int(x.split('_')[-1]))\n",
    "# df['mutation_version'] = df['mutation_name'].apply(\n",
    "#     lambda x: int(x.split('-')[-1]) if x != 'ref_circuit' else 0)\n",
    "# df = df.drop_duplicates(cols_e)\n",
    "\n",
    "# df[['name', 'mutation_version', 'mutation_num'] +\n",
    "#    cols_e + cols_a].to_json('../data/processed/rna_circuits_proc.json', index=False)\n"
   ]
  },
  {
   "cell_type": "code",
   "execution_count": null,
   "id": "f61379e1",
   "metadata": {},
   "outputs": [
    {
     "data": {
      "text/plain": [
       "('GAAATCTTATTACGCTCTTA', 'GGCTCTATCTGGGAGTCGTA', 'TCAGCGTCTCCGGCGGTTGT')"
      ]
     },
     "execution_count": 42,
     "metadata": {},
     "output_type": "execute_result"
    }
   ],
   "source": [
    "# import jax.random as jr\n",
    "# import numpy as np\n",
    "# import pandas as pd\n",
    "\n",
    "\n",
    "# SEQ_POOL = {\n",
    "#     'A': 0.2451,\n",
    "#     'C': 0.2458,\n",
    "#     'G': 0.2622,\n",
    "#     'T': 0.2469\n",
    "# }\n",
    "\n",
    "\n",
    "# count=10\n",
    "# slength=20\n",
    "# num_components=3\n",
    "# seed=0\n",
    "# name='rc'\n",
    "# species_names=None\n",
    "# out_type='json'\n",
    "\n",
    "\n",
    "# rng = jr.PRNGKey(seed)\n",
    "# bases = list(SEQ_POOL.keys())\n",
    "# probs = np.array(list(SEQ_POOL.values()))\n",
    "# seqs = jr.choice(rng, np.arange(\n",
    "# len(bases)), p=probs, shape=(count, num_components, slength))\n",
    "# seqs = np.vectorize(lambda x: bases[x])(np.array(seqs))\n",
    "# sequences = list(set([tuple([''.join(si) for si in s]) for s in seqs]))\n",
    "\n",
    "# species_names = species_names if species_names is not None else [\n",
    "# f'{name}_{i}' for i in range(num_components)]\n",
    "# # df = pd.DataFrame(sequences, columns=species_names)\n",
    "\n",
    "# sequences[0]\n"
   ]
  },
  {
   "cell_type": "code",
   "execution_count": null,
   "id": "ba32a1bb",
   "metadata": {},
   "outputs": [],
   "source": []
  }
 ],
 "metadata": {
  "kernelspec": {
   "display_name": "bandcon",
   "language": "python",
   "name": "python3"
  },
  "language_info": {
   "codemirror_mode": {
    "name": "ipython",
    "version": 3
   },
   "file_extension": ".py",
   "mimetype": "text/x-python",
   "name": "python",
   "nbconvert_exporter": "python",
   "pygments_lexer": "ipython3",
   "version": "3.11.7"
  }
 },
 "nbformat": 4,
 "nbformat_minor": 5
}
